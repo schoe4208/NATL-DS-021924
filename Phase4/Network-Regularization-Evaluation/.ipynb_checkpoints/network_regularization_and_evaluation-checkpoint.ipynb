{
 "cells": [
  {
   "cell_type": "markdown",
   "metadata": {
    "slideshow": {
     "slide_type": "slide"
    }
   },
   "source": [
    "# Regularization and Evaluation of Neural Networks"
   ]
  },
  {
   "cell_type": "code",
   "execution_count": 6,
   "metadata": {},
   "outputs": [
    {
     "ename": "ImportError",
     "evalue": "SciKeras requires TensorFlow >= 2.7.0.",
     "output_type": "error",
     "traceback": [
      "\u001b[1;31m---------------------------------------------------------------------------\u001b[0m",
      "\u001b[1;31mImportError\u001b[0m                               Traceback (most recent call last)",
      "\u001b[1;32m<ipython-input-6-811f726c7756>\u001b[0m in \u001b[0;36m<module>\u001b[1;34m\u001b[0m\n\u001b[0;32m     16\u001b[0m \u001b[1;32mfrom\u001b[0m \u001b[0mtensorflow\u001b[0m\u001b[1;33m.\u001b[0m\u001b[0mkeras\u001b[0m\u001b[1;33m.\u001b[0m\u001b[0mcallbacks\u001b[0m \u001b[1;32mimport\u001b[0m \u001b[0mEarlyStopping\u001b[0m\u001b[1;33m\u001b[0m\u001b[1;33m\u001b[0m\u001b[0m\n\u001b[0;32m     17\u001b[0m \u001b[1;33m\u001b[0m\u001b[0m\n\u001b[1;32m---> 18\u001b[1;33m \u001b[1;32mfrom\u001b[0m \u001b[0mscikeras\u001b[0m\u001b[1;33m.\u001b[0m\u001b[0mwrappers\u001b[0m \u001b[1;32mimport\u001b[0m \u001b[0mKerasClassifier\u001b[0m\u001b[1;33m\u001b[0m\u001b[1;33m\u001b[0m\u001b[0m\n\u001b[0m\u001b[0;32m     19\u001b[0m \u001b[1;33m\u001b[0m\u001b[0m\n\u001b[0;32m     20\u001b[0m \u001b[1;32mimport\u001b[0m \u001b[0mos\u001b[0m\u001b[1;33m\u001b[0m\u001b[1;33m\u001b[0m\u001b[0m\n",
      "\u001b[1;32m~\\anaconda3\\envs\\learn-env\\lib\\site-packages\\scikeras\\__init__.py\u001b[0m in \u001b[0;36m<module>\u001b[1;34m\u001b[0m\n\u001b[0;32m     22\u001b[0m \u001b[1;32melse\u001b[0m\u001b[1;33m:\u001b[0m\u001b[1;33m\u001b[0m\u001b[1;33m\u001b[0m\u001b[0m\n\u001b[0;32m     23\u001b[0m     \u001b[1;32mif\u001b[0m \u001b[0mversion\u001b[0m\u001b[1;33m.\u001b[0m\u001b[0mparse\u001b[0m\u001b[1;33m(\u001b[0m\u001b[0mtf_version\u001b[0m\u001b[1;33m)\u001b[0m \u001b[1;33m<\u001b[0m \u001b[0mversion\u001b[0m\u001b[1;33m.\u001b[0m\u001b[0mparse\u001b[0m\u001b[1;33m(\u001b[0m\u001b[0mMIN_TF_VERSION\u001b[0m\u001b[1;33m)\u001b[0m\u001b[1;33m:\u001b[0m  \u001b[1;31m# pragma: no cover\u001b[0m\u001b[1;33m\u001b[0m\u001b[1;33m\u001b[0m\u001b[0m\n\u001b[1;32m---> 24\u001b[1;33m         \u001b[1;32mraise\u001b[0m \u001b[0mImportError\u001b[0m\u001b[1;33m(\u001b[0m\u001b[0mTF_VERSION_ERR\u001b[0m\u001b[1;33m)\u001b[0m \u001b[1;32mfrom\u001b[0m \u001b[1;32mNone\u001b[0m\u001b[1;33m\u001b[0m\u001b[1;33m\u001b[0m\u001b[0m\n\u001b[0m\u001b[0;32m     25\u001b[0m \u001b[1;33m\u001b[0m\u001b[0m\n\u001b[0;32m     26\u001b[0m \u001b[1;32mimport\u001b[0m \u001b[0mtensorflow\u001b[0m\u001b[1;33m.\u001b[0m\u001b[0mkeras\u001b[0m \u001b[1;32mas\u001b[0m \u001b[0m_keras\u001b[0m  \u001b[1;31m# noqa: E402\u001b[0m\u001b[1;33m\u001b[0m\u001b[1;33m\u001b[0m\u001b[0m\n",
      "\u001b[1;31mImportError\u001b[0m: SciKeras requires TensorFlow >= 2.7.0."
     ]
    }
   ],
   "source": [
    "from sklearn.datasets import load_sample_images\n",
    "from sklearn.datasets import load_digits\n",
    "from sklearn.model_selection import train_test_split, cross_val_score\n",
    "from sklearn.preprocessing import OneHotEncoder\n",
    "from sklearn.metrics import accuracy_score, confusion_matrix\n",
    "import matplotlib.pyplot as plt\n",
    "import matplotlib.image as mpimg\n",
    "import numpy as np\n",
    "import seaborn as sns\n",
    "\n",
    "from tensorflow.keras.models import Sequential\n",
    "from tensorflow.keras.layers import Dense, Dropout\n",
    "from tensorflow.keras.regularizers import l2\n",
    "from tensorflow.keras.optimizers import SGD\n",
    "#from tensorflow.keras.wrappers import scikit_learn - need updated tensorflow\n",
    "from tensorflow.keras.callbacks import EarlyStopping\n",
    "\n",
    "from scikeras.wrappers import KerasClassifier\n",
    "\n",
    "import os\n",
    "import sys\n",
    "module_path = os.path.abspath(os.path.join(os.pardir, os.pardir))\n",
    "if module_path not in sys.path:\n",
    "    sys.path.append(module_path)\n",
    "    \n",
    "%load_ext autoreload\n",
    "%autoreload 2"
   ]
  },
  {
   "cell_type": "markdown",
   "metadata": {},
   "source": [
    "Know the basic architecture of a neural net"
   ]
  },
  {
   "cell_type": "code",
   "execution_count": 4,
   "metadata": {},
   "outputs": [
    {
     "name": "stdout",
     "output_type": "stream",
     "text": [
      "Collecting scikeras\n",
      "  Downloading scikeras-0.12.0-py3-none-any.whl (27 kB)\n",
      "Collecting tensorflow-io-gcs-filesystem<0.32,>=0.23.1; sys_platform == \"win32\"\n",
      "  Downloading tensorflow_io_gcs_filesystem-0.31.0-cp38-cp38-win_amd64.whl (1.5 MB)\n",
      "Collecting scikit-learn>=1.0.0\n",
      "  Downloading scikit_learn-1.3.2-cp38-cp38-win_amd64.whl (9.3 MB)\n",
      "Requirement already satisfied: packaging>=0.21 in c:\\users\\admin\\anaconda3\\envs\\learn-env\\lib\\site-packages (from scikeras) (20.4)\n",
      "Collecting joblib>=1.1.1\n",
      "  Downloading joblib-1.4.0-py3-none-any.whl (301 kB)\n",
      "Requirement already satisfied: numpy<2.0,>=1.17.3 in c:\\users\\admin\\anaconda3\\envs\\learn-env\\lib\\site-packages (from scikit-learn>=1.0.0->scikeras) (1.18.5)\n",
      "Requirement already satisfied: scipy>=1.5.0 in c:\\users\\admin\\anaconda3\\envs\\learn-env\\lib\\site-packages (from scikit-learn>=1.0.0->scikeras) (1.5.0)\n",
      "Requirement already satisfied: threadpoolctl>=2.0.0 in c:\\users\\admin\\anaconda3\\envs\\learn-env\\lib\\site-packages (from scikit-learn>=1.0.0->scikeras) (2.1.0)\n",
      "Requirement already satisfied: pyparsing>=2.0.2 in c:\\users\\admin\\anaconda3\\envs\\learn-env\\lib\\site-packages (from packaging>=0.21->scikeras) (2.4.7)\n",
      "Requirement already satisfied: six in c:\\users\\admin\\anaconda3\\envs\\learn-env\\lib\\site-packages (from packaging>=0.21->scikeras) (1.15.0)\n",
      "Installing collected packages: tensorflow-io-gcs-filesystem, joblib, scikit-learn, scikeras\n",
      "  Attempting uninstall: joblib\n",
      "    Found existing installation: joblib 0.17.0\n",
      "    Uninstalling joblib-0.17.0:\n",
      "      Successfully uninstalled joblib-0.17.0\n",
      "  Attempting uninstall: scikit-learn\n",
      "    Found existing installation: scikit-learn 0.23.2\n",
      "    Uninstalling scikit-learn-0.23.2:\n",
      "      Successfully uninstalled scikit-learn-0.23.2\n",
      "Successfully installed joblib-1.4.0 scikeras-0.12.0 scikit-learn-1.3.2 tensorflow-io-gcs-filesystem-0.31.0\n"
     ]
    }
   ],
   "source": [
    "# If you don't have scikeras installed, uncomment and run\n",
    "\n",
    "#!pip install scikeras"
   ]
  },
  {
   "cell_type": "markdown",
   "metadata": {},
   "source": [
    "## Learning Objectives\n",
    "\n",
    "- use `keras` to code up a neural network model;\n",
    "- explain dropout and early stopping as distinctive forms of regularization in neural networks;\n",
    "- use wrappers inside `keras` to make models that can jibe with `sklearn`."
   ]
  },
  {
   "cell_type": "markdown",
   "metadata": {},
   "source": [
    "### From last time"
   ]
  },
  {
   "cell_type": "code",
   "execution_count": null,
   "metadata": {},
   "outputs": [],
   "source": [
    "digits = load_digits()\n",
    "X = digits.data\n",
    "y = digits.target\n",
    "\n",
    "y_binary = y % 2"
   ]
  },
  {
   "cell_type": "code",
   "execution_count": null,
   "metadata": {},
   "outputs": [],
   "source": [
    "model = Sequential()\n",
    "model.add(Dense(12, activation='relu', input_dim=64))\n",
    "model.add(Dense(8, activation='relu'))\n",
    "model.add(Dense(1, activation='sigmoid'))\n",
    "\n",
    "model.compile(optimizer='rmsprop',\n",
    "              loss='binary_crossentropy',\n",
    "              metrics=['accuracy'])\n",
    "\n",
    "model.fit(X, y_binary, epochs=50, batch_size=10)"
   ]
  },
  {
   "cell_type": "markdown",
   "metadata": {},
   "source": [
    "### Things to know:\n",
    "\n",
    "- The data and labels in `fit()` need to be numpy arrays, not `pandas` dfs.\n",
    "- Scaling your data will have a large impact on your model.\n",
    "   > For our traditional input features, we would use a scaler object. For images, as long as the minimum value is 0, we can simply divide through by the maximum pixel intensity."
   ]
  },
  {
   "cell_type": "markdown",
   "metadata": {},
   "source": [
    "#### Getting data ready for modeling\n",
    "**Preprocessing**:\n",
    "\n",
    "- use train_test_split to create X_train, y_train, X_test, and y_test\n",
    "- Split training data into pure_train and validation sets.\n",
    "- Scale the pixel intensity to a value between 0 and 1."
   ]
  },
  {
   "cell_type": "markdown",
   "metadata": {},
   "source": [
    "Scaling our input variables will help speed up our neural network.\n",
    "\n",
    "Since our minimum intensity is 0, we can normalize the inputs by dividing each value by the max value (16)."
   ]
  },
  {
   "cell_type": "code",
   "execution_count": null,
   "metadata": {},
   "outputs": [],
   "source": [
    "X_train, X_test, y_train, y_test =\\\n",
    "    train_test_split(X, y_binary, random_state=42, test_size=0.2)\n",
    "\n",
    "X_pure_train, X_val, y_pure_train, y_val =\\\n",
    "    train_test_split(X_train, y_train, random_state=42, test_size=0.2)\n",
    "\n",
    "X_pure_train, X_val, X_test = X_pure_train/16, X_val/16, X_test/16"
   ]
  },
  {
   "cell_type": "markdown",
   "metadata": {},
   "source": [
    "For activation, let's start with the familiar sigmoid function, and see how it performs."
   ]
  },
  {
   "cell_type": "code",
   "execution_count": null,
   "metadata": {},
   "outputs": [],
   "source": [
    "model = Sequential()\n",
    "# We will start with our trusty sigmoid function.\n",
    "# What does input dimension correspond to?\n",
    "model.add(Dense(12, activation='sigmoid', input_dim=64))\n",
    "model.add(Dense(8, activation='sigmoid'))\n",
    "model.add(Dense(1, activation='sigmoid'))\n",
    "\n",
    "model.compile(optimizer='SGD' ,\n",
    "              # We use binary_crossentropy for a binary loss function\n",
    "              loss='binary_crossentropy',\n",
    "              metrics=['accuracy'])\n",
    "\n",
    "# Assign the variable history to store the results,\n",
    "# and set verbose=1 so we can see the output. To see\n",
    "# only the metrics at the end of each epoch, set verbose=2.\n",
    "results = model.fit(X_pure_train, y_pure_train, epochs=10, batch_size=100, verbose=1)"
   ]
  },
  {
   "cell_type": "markdown",
   "metadata": {},
   "source": [
    "We can access the history of our model via `results.history`.\n",
    "Use __dict__ to take a tour."
   ]
  },
  {
   "cell_type": "code",
   "execution_count": null,
   "metadata": {},
   "outputs": [],
   "source": [
    "results.__dict__"
   ]
  },
  {
   "cell_type": "code",
   "execution_count": null,
   "metadata": {},
   "outputs": [],
   "source": [
    "sigmoid_loss = results.history['loss']\n",
    "sigmoid_accuracy = results.history['accuracy']\n",
    "\n",
    "fig, (ax1, ax2) = plt.subplots(1, 2, figsize=(10, 5))\n",
    "sns.lineplot(x=results.epoch, y=sigmoid_loss, ax=ax1, label='loss')\n",
    "sns.lineplot(x=results.epoch, y=sigmoid_accuracy, ax=ax2, label='accuracy');"
   ]
  },
  {
   "cell_type": "markdown",
   "metadata": {},
   "source": [
    "We have two plots above both relating to the quality of our model.  The left-hand plot is our loss. It uses the probabilities associated with our predictions to judge how well our prediction fits reality. We want it to decrease as far as possible.\n",
    "\n",
    "The accuracy judges how well the predictions are after applying the threshold at the output layer.  We want accuracy to increase."
   ]
  },
  {
   "cell_type": "markdown",
   "metadata": {},
   "source": [
    "If we look at our loss, it is still decreasing. That is a signal that our model is **still learning**. If our model is still learning, we can allow it to get better by turning a few dials.\n",
    "\n",
    "Let's:\n",
    "- increase the number of epochs;\n",
    "- change sigmoid activation in the hidden layers to ReLU; and\n",
    "- decrease the batch size."
   ]
  },
  {
   "cell_type": "code",
   "execution_count": null,
   "metadata": {},
   "outputs": [],
   "source": [
    "X_pure_train.shape[0]"
   ]
  },
  {
   "cell_type": "code",
   "execution_count": null,
   "metadata": {},
   "outputs": [],
   "source": [
    "model = Sequential()\n",
    "model.add(Dense(12, activation='relu', input_dim=64))\n",
    "model.add(Dense(8, activation='relu'))\n",
    "model.add(Dense(1, activation='sigmoid'))\n",
    "\n",
    "model.compile(optimizer='SGD',\n",
    "              loss='binary_crossentropy',\n",
    "              metrics=['accuracy'])\n",
    "\n",
    "# Assign the variable history to store the results,\n",
    "# and set verbose=1 so we can see the output.\n",
    "results = model.fit(X_pure_train, y_pure_train, epochs=100, batch_size=None, verbose=1)"
   ]
  },
  {
   "cell_type": "code",
   "execution_count": null,
   "metadata": {},
   "outputs": [],
   "source": [
    "sigmoid_loss = results.history['loss']\n",
    "sigmoid_accuracy = results.history['accuracy']\n",
    "\n",
    "fig, (ax1, ax2) = plt.subplots(1, 2, figsize=(10, 5))\n",
    "sns.lineplot(x=results.epoch, y=sigmoid_loss, ax=ax1, label='loss')\n",
    "sns.lineplot(x=results.epoch, y=sigmoid_accuracy, ax=ax2, label='accuracy');"
   ]
  },
  {
   "cell_type": "markdown",
   "metadata": {},
   "source": [
    "If we increase the learning rate to a very high number, we see that our model overshoots the minimum, and starts bouncing all around."
   ]
  },
  {
   "cell_type": "code",
   "execution_count": null,
   "metadata": {},
   "outputs": [],
   "source": [
    "model = Sequential()\n",
    "\n",
    "sgd = SGD(learning_rate=9)\n",
    "model.add(Dense(12, activation='relu', input_dim=64))\n",
    "model.add(Dense(8, activation='relu'))\n",
    "model.add(Dense(1, activation='sigmoid'))\n",
    "\n",
    "model.compile(optimizer=sgd,\n",
    "              loss='binary_crossentropy',\n",
    "              metrics=['accuracy'])\n",
    "\n",
    "results = model.fit(X_pure_train, y_pure_train,\n",
    "                    epochs=30, batch_size=10, verbose=1)\n",
    "\n",
    "relu_loss = results.history['loss']\n",
    "relu_accuracy = results.history['accuracy']\n",
    "\n",
    "fig, (ax1, ax2) = plt.subplots(1, 2, figsize=(10, 5))\n",
    "sns.lineplot(x=results.epoch, y=relu_loss, ax=ax1, label='loss')\n",
    "sns.lineplot(x=results.epoch, y=relu_accuracy, ax=ax2, label='accuracy');"
   ]
  },
  {
   "cell_type": "markdown",
   "metadata": {},
   "source": [
    "### Exercise\n",
    "\n",
    "We have been looking only at our training set. Let's add in our validation set to the picture. Check the docstring for the `.fit()` method and add in our validation data."
   ]
  },
  {
   "cell_type": "code",
   "execution_count": null,
   "metadata": {},
   "outputs": [],
   "source": [
    "model = Sequential()\n",
    "model.add(Dense(12, activation='relu', input_dim=64))\n",
    "model.add(Dense(8, activation='relu'))\n",
    "model.add(Dense(4, activation='relu'))\n",
    "model.add(Dense(1, activation='sigmoid'))\n",
    "\n",
    "model.compile(optimizer='adam',\n",
    "              loss='binary_crossentropy',\n",
    "              metrics=['accuracy'])\n",
    "\n",
    "\n",
    "## YOUR CODE HERE\n",
    "\n",
    "train_loss = results.history['loss']\n",
    "train_acc = results.history['accuracy']\n",
    "val_loss = results.history['val_loss']\n",
    "val_acc = results.history['val_accuracy']\n",
    "\n",
    "fig, (ax1, ax2) = plt.subplots(1, 2, figsize=(10, 5))\n",
    "sns.lineplot(x=results.epoch, y=train_loss, ax=ax1, label='train_loss')\n",
    "sns.lineplot(x=results.epoch, y=train_acc, ax=ax2, label='train_accuracy')\n",
    "\n",
    "sns.lineplot(x=results.epoch, y=val_loss, ax=ax1, label='val_loss')\n",
    "sns.lineplot(x=results.epoch, y=val_acc, ax=ax2, label='val_accuracy');"
   ]
  },
  {
   "cell_type": "markdown",
   "metadata": {},
   "source": [
    "<details>\n",
    "    <summary>One answer here</summary>\n",
    "<code>model = Sequential()\n",
    "model.add(Dense(12, activation='relu', input_dim=64))\n",
    "model.add(Dense(8, activation='relu'))\n",
    "model.add(Dense(4, activation='relu'))\n",
    "model.add(Dense(1, activation='sigmoid'))\n",
    "model.compile(optimizer='adam',\n",
    "              loss='binary_crossentropy',\n",
    "              metrics=['accuracy'])\n",
    "results = model.fit(X_pure_train, y_pure_train,\n",
    "                   validation_data=(X_val, y_val),\n",
    "                   epochs=30, batch_size=10)\n",
    "train_loss = results.history['loss']\n",
    "train_acc = results.history['accuracy']\n",
    "val_loss = results.history['val_loss']\n",
    "val_acc = results.history['val_accuracy']\n",
    "fig, (ax1, ax2) = plt.subplots(1, 2, figsize=(10, 5))\n",
    "sns.lineplot(x=results.epoch, y=train_loss, ax=ax1, label='train_loss')\n",
    "sns.lineplot(x=results.epoch, y=train_acc, ax=ax2, label='train_accuracy')\n",
    "sns.lineplot(x=results.epoch, y=val_loss, ax=ax1, label='val_loss')\n",
    "sns.lineplot(x=results.epoch, y=val_acc, ax=ax2, label='val_accuracy');</code>\n",
    "</details>"
   ]
  },
  {
   "cell_type": "code",
   "execution_count": null,
   "metadata": {},
   "outputs": [],
   "source": [
    "results.history['val_accuracy'][-1]"
   ]
  },
  {
   "cell_type": "markdown",
   "metadata": {},
   "source": [
    "## Connecting with `sklearn`\n",
    "\n",
    "The `keras.wrappers` submodule means that we can turn `keras` models into estimators that `sklearn` tools will recognize."
   ]
  },
  {
   "cell_type": "code",
   "execution_count": null,
   "metadata": {},
   "outputs": [],
   "source": [
    "# This will throw an error.\n",
    "\n",
    "cross_val_score(model, X_pure_train, y_pure_train)"
   ]
  },
  {
   "cell_type": "code",
   "execution_count": null,
   "metadata": {},
   "outputs": [],
   "source": [
    "def build_model():\n",
    "    model = Sequential()\n",
    "    model.add(Dense(12, activation='relu', input_dim=64))\n",
    "    model.add(Dense(8, activation='relu'))\n",
    "    model.add(Dense(4, activation='relu'))\n",
    "    model.add(Dense(1, activation = 'sigmoid'))\n",
    "\n",
    "    model.compile(optimizer='adam',\n",
    "                  loss='binary_crossentropy',\n",
    "                  metrics=['accuracy'])\n",
    "    return model"
   ]
  },
  {
   "cell_type": "code",
   "execution_count": null,
   "metadata": {},
   "outputs": [],
   "source": [
    "keras_model = KerasClassifier(build_model,\n",
    "                              epochs=50,\n",
    "                              batch_size=32,\n",
    "                              verbose=2)"
   ]
  },
  {
   "cell_type": "code",
   "execution_count": null,
   "metadata": {},
   "outputs": [],
   "source": [
    "type(keras_model)"
   ]
  },
  {
   "cell_type": "code",
   "execution_count": null,
   "metadata": {},
   "outputs": [],
   "source": [
    "cross_val_score(keras_model, X_pure_train, y_pure_train)"
   ]
  },
  {
   "cell_type": "markdown",
   "metadata": {},
   "source": [
    "## Regularization"
   ]
  },
  {
   "cell_type": "markdown",
   "metadata": {},
   "source": [
    "Does regularization make sense in the context of neural networks? <br/>\n",
    "\n",
    "Yes! We still have all of the salient ingredients: a loss function, overfitting vs. underfitting, and coefficients (weights) that could get too large.\n",
    "\n",
    "But there are now a few different flavors besides L1 and L2 regularization. (Note that L1 regularization is not common in the context of  neural networks.)\n",
    "\n",
    "We'll add a few more layers to give regularization a better chance of making a difference!"
   ]
  },
  {
   "cell_type": "code",
   "execution_count": null,
   "metadata": {},
   "outputs": [],
   "source": [
    "model = Sequential()\n",
    "model.add(Dense(30, activation='relu', input_dim=64))\n",
    "\n",
    "# We can add L2 (or L1) regularization right into\n",
    "# the layer with the kernel_regularizer parameter.\n",
    "\n",
    "model.add(Dense(20, activation='relu',\n",
    "                kernel_regularizer=l2(l2=0.05)))\n",
    "\n",
    "# Note that there is also a bias_regularizer,\n",
    "# but this tends to have less effect.\n",
    "\n",
    "model.add(Dense(12, activation='relu'))\n",
    "model.add(Dense(12, activation='relu'))\n",
    "model.add(Dense(12, activation='relu'))\n",
    "model.add(Dense(8, activation='relu'))\n",
    "model.add(Dense(4, activation='relu'))\n",
    "model.add(Dense(1, activation ='sigmoid'))\n",
    "\n",
    "model.compile(optimizer='adam',\n",
    "              loss='binary_crossentropy',\n",
    "              metrics=['accuracy'])\n",
    "\n",
    "results = model.fit(X_pure_train, y_pure_train, epochs=20, batch_size=32,\n",
    "                    verbose=0, validation_data=(X_val, y_val))\n",
    "\n",
    "train_loss = results.history['loss']\n",
    "train_acc = results.history['accuracy']\n",
    "val_loss = results.history['val_loss']\n",
    "val_acc = results.history['val_accuracy']\n",
    "\n",
    "\n",
    "fig, (ax1, ax2) = plt.subplots(1, 2, figsize=(10, 5))\n",
    "sns.lineplot(x=results.epoch, y=train_loss, ax=ax1, label='train_loss')\n",
    "sns.lineplot(x=results.epoch, y=train_acc, ax=ax2, label='train_accuracy')\n",
    "\n",
    "sns.lineplot(x=results.epoch, y=val_loss, ax=ax1, label='val_loss')\n",
    "sns.lineplot(x=results.epoch, y=val_acc, ax=ax2, label='val_accuracy');"
   ]
  },
  {
   "cell_type": "markdown",
   "metadata": {},
   "source": [
    "Adding L2 to multiple layers:"
   ]
  },
  {
   "cell_type": "code",
   "execution_count": null,
   "metadata": {},
   "outputs": [],
   "source": [
    "model = Sequential()\n",
    "model.add(Dense(30, activation='relu',\n",
    "                input_dim=64))\n",
    "model.add(Dense(20, activation='relu',\n",
    "                kernel_regularizer=l2(l2=0.01)))\n",
    "\n",
    "model.add(Dense(12, activation='relu',\n",
    "                kernel_regularizer=l2(l2=0.01)))\n",
    "model.add(Dense(12, activation='relu',\n",
    "                kernel_regularizer=l2(l2=0.01)))\n",
    "model.add(Dense(12, activation='relu',\n",
    "                kernel_regularizer=l2(l2=0.01)))\n",
    "model.add(Dense(8, activation='relu',\n",
    "                kernel_regularizer=l2(l2=0.01)))\n",
    "model.add(Dense(4, activation='relu',\n",
    "                kernel_regularizer=l2(l2=0.01)))\n",
    "model.add(Dense(1, activation='sigmoid'))\n",
    "\n",
    "model.compile(optimizer='adam',\n",
    "              loss='binary_crossentropy',\n",
    "              metrics=['accuracy'])\n",
    "\n",
    "results = model.fit(X_pure_train, y_pure_train, epochs=20, batch_size=32,\n",
    "                    verbose=0, validation_data=(X_val, y_val))\n",
    "\n",
    "train_loss = results.history['loss']\n",
    "train_acc = results.history['accuracy']\n",
    "val_loss = results.history['val_loss']\n",
    "val_acc = results.history['val_accuracy']\n",
    "\n",
    "\n",
    "fig, (ax1, ax2) = plt.subplots(1, 2, figsize=(10, 5))\n",
    "sns.lineplot(x=results.epoch, y=train_loss, ax=ax1, label='train_loss')\n",
    "sns.lineplot(x=results.epoch, y=train_acc, ax=ax2, label='train_accuracy')\n",
    "\n",
    "sns.lineplot(x=results.epoch, y=val_loss, ax=ax1, label='val_loss')\n",
    "sns.lineplot(x=results.epoch, y=val_acc, ax=ax2, label='val_accuracy');"
   ]
  },
  {
   "cell_type": "markdown",
   "metadata": {},
   "source": [
    "### Dropout\n",
    "\n",
    "We can also specify a dropout layer in keras, which randomly shuts off different nodes during training. This can help to prevent overfitting.\n",
    "\n",
    "![drop_out](https://raw.githubusercontent.com/flatiron-school/DS-Instructor-Content/main/Deep-Learning/Network-Regularization-Evaluation/images/drop_out.png?token=GHSAT0AAAAAACDAYTVNNFDP3F6QLL3ODEOCZD2JSYQ)"
   ]
  },
  {
   "cell_type": "markdown",
   "metadata": {},
   "source": [
    "### Exercise\n",
    "\n",
    "To add dropout to a `keras` network, simply add it as though it were a layer. It will apply to the immediately preceding layer.\n",
    "\n",
    "Add Dropout to one or more layers below."
   ]
  },
  {
   "cell_type": "code",
   "execution_count": null,
   "metadata": {},
   "outputs": [],
   "source": [
    "model = Sequential()\n",
    "model.add(Dense(30, activation='relu', input_dim=64))\n",
    "model.add(Dense(20, activation='relu'))\n",
    "model.add(Dense(12, activation='relu'))\n",
    "model.add(Dense(12, activation='relu'))\n",
    "model.add(Dense(12, activation='relu'))\n",
    "model.add(Dense(8, activation='relu'))\n",
    "model.add(Dense(4, activation='relu'))\n",
    "model.add(Dense(1, activation ='sigmoid'))\n",
    "\n",
    "model.compile(optimizer='adam',\n",
    "              loss='binary_crossentropy',\n",
    "              metrics=['accuracy'])\n",
    "\n",
    "results = model.fit(X_pure_train, y_pure_train, epochs=50,\n",
    "                    batch_size= 32, verbose=0,\n",
    "                    validation_data=(X_val, y_val))\n",
    "\n",
    "train_loss = results.history['loss']\n",
    "train_acc = results.history['accuracy']\n",
    "val_loss = results.history['val_loss']\n",
    "val_acc = results.history['val_accuracy']\n",
    "\n",
    "\n",
    "fig, (ax1, ax2) = plt.subplots(1, 2, figsize=(10, 5))\n",
    "sns.lineplot(x=results.epoch, y=train_loss, ax=ax1, label='train_loss')\n",
    "sns.lineplot(x=results.epoch, y=train_acc, ax=ax2, label='train_accuracy')\n",
    "\n",
    "sns.lineplot(x=results.epoch, y=val_loss, ax=ax1, label='val_loss')\n",
    "sns.lineplot(x=results.epoch, y=val_acc, ax=ax2, label='val_accuracy');"
   ]
  },
  {
   "cell_type": "markdown",
   "metadata": {},
   "source": [
    "<details>\n",
    "    <summary>One answer here</summary>\n",
    "<code>model = Sequential()\n",
    "model.add(Dense(30, activation='relu', input_dim=64))\n",
    "model.add(Dense(20, activation='relu'))\n",
    "model.add(Dropout(0.5))\n",
    "model.add(Dense(12, activation='relu'))\n",
    "model.add(Dropout(0.2))\n",
    "model.add(Dense(12, activation='relu'))\n",
    "model.add(Dense(12, activation='relu'))\n",
    "model.add(Dense(8, activation='relu'))\n",
    "model.add(Dense(4, activation='relu'))\n",
    "model.add(Dense(1, activation ='sigmoid'))\n",
    "\n",
    "model.compile(optimizer='adam',\n",
    "              loss='binary_crossentropy',\n",
    "              metrics=['accuracy'])\n",
    "\n",
    "results = model.fit(X_pure_train, y_pure_train, epochs=50,\n",
    "                    batch_size= 32, verbose=0,\n",
    "                    validation_data=(X_val, y_val))\n",
    "\n",
    "train_loss = results.history['loss']\n",
    "train_acc = results.history['accuracy']\n",
    "val_loss = results.history['val_loss']\n",
    "val_acc = results.history['val_accuracy']\n",
    "\n",
    "\n",
    "fig, (ax1, ax2) = plt.subplots(1, 2, figsize=(10, 5))\n",
    "sns.lineplot(x=results.epoch, y=train_loss, ax=ax1, label='train_loss')\n",
    "sns.lineplot(x=results.epoch, y=train_acc, ax=ax2, label='train_accuracy')\n",
    "\n",
    "sns.lineplot(x=results.epoch, y=val_loss, ax=ax1, label='val_loss')\n",
    "sns.lineplot(x=results.epoch, y=val_acc, ax=ax2, label='val_accuracy');</code>\n",
    "</details>"
   ]
  },
  {
   "cell_type": "code",
   "execution_count": null,
   "metadata": {},
   "outputs": [],
   "source": [
    "results.history['val_accuracy'][-1]"
   ]
  },
  {
   "cell_type": "markdown",
   "metadata": {},
   "source": [
    "### Early Stopping"
   ]
  },
  {
   "cell_type": "markdown",
   "metadata": {},
   "source": [
    "We can also tell our neural network to stop once it stops realizing any gain.\n",
    "\n",
    "Here we tell it to stop once the a very small positive change in the validation loss occurs:"
   ]
  },
  {
   "cell_type": "code",
   "execution_count": null,
   "metadata": {},
   "outputs": [],
   "source": [
    "model = Sequential()\n",
    "model.add(Dense(30, activation='relu', input_dim=64))\n",
    "model.add(Dense(20, activation='relu'))\n",
    "model.add(Dropout(0.5))\n",
    "model.add(Dense(12, activation='relu'))\n",
    "model.add(Dense(12, activation='relu'))\n",
    "model.add(Dense(12, activation='relu'))\n",
    "model.add(Dense(8, activation='relu'))\n",
    "model.add(Dense(4, activation='relu'))\n",
    "model.add(Dense(1, activation ='sigmoid'))\n",
    "\n",
    "model.compile(optimizer='adam',\n",
    "              loss='binary_crossentropy',\n",
    "              metrics=['accuracy'])\n",
    "\n",
    "# Define the EarlyStopping object\n",
    "early_stop = EarlyStopping(monitor='val_loss', min_delta=1e-8,\n",
    "                           verbose=1,\n",
    "                           mode='min')\n",
    "\n",
    "# Place this in a list as the value of the `callbacks` parameter\n",
    "# in the `.fit()` method.\n",
    "results = model.fit(X_pure_train, y_pure_train,\n",
    "                    epochs=20, batch_size=32,\n",
    "                    verbose=0, validation_data=(X_val, y_val),\n",
    "                    callbacks=[early_stop])\n",
    "\n",
    "train_loss = results.history['loss']\n",
    "train_acc = results.history['accuracy']\n",
    "val_loss = results.history['val_loss']\n",
    "val_acc = results.history['val_accuracy']\n",
    "\n",
    "\n",
    "fig, (ax1, ax2) = plt.subplots(1, 2, figsize=(10, 5))\n",
    "sns.lineplot(x=results.epoch, y=train_loss, ax=ax1, label='train_loss')\n",
    "sns.lineplot(x=results.epoch, y=train_acc, ax=ax2, label='train_accuracy')\n",
    "\n",
    "sns.lineplot(x=results.epoch, y=val_loss, ax=ax1, label='val_loss')\n",
    "sns.lineplot(x=results.epoch, y=val_acc, ax=ax2, label='val_accuracy');"
   ]
  },
  {
   "cell_type": "markdown",
   "metadata": {},
   "source": [
    "### Exercise\n",
    "\n",
    "That probably stopped too early. We can specify the number of epochs in which it doesn't see decrease in the loss with the `patience` parameter. Modify the code below to include an Early Stop with a patience of 5 epochs."
   ]
  },
  {
   "cell_type": "code",
   "execution_count": null,
   "metadata": {},
   "outputs": [],
   "source": [
    "model = Sequential()\n",
    "model.add(Dense(30, activation='relu', input_dim=64))\n",
    "model.add(Dense(20, activation='relu'))\n",
    "model.add(Dropout(0.5))\n",
    "model.add(Dense(12, activation='relu'))\n",
    "model.add(Dense(12, activation='relu'))\n",
    "model.add(Dense(12, activation='relu'))\n",
    "model.add(Dense(8, activation='relu'))\n",
    "model.add(Dense(4, activation='relu'))\n",
    "model.add(Dense(1, activation ='sigmoid'))\n",
    "\n",
    "model.compile(optimizer='adam',\n",
    "              loss='binary_crossentropy',\n",
    "              metrics=['accuracy'])\n",
    "\n",
    "# Define the EarlyStopping object\n",
    "early_stop = EarlyStopping(monitor='val_loss', min_delta=1e-8,\n",
    "                           verbose=1, patience=5,\n",
    "                           mode='min')\n",
    "\n",
    "# Place this in a list as the value of the `callbacks` parameter\n",
    "# in the `.fit()` method.\n",
    "results = model.fit(X_pure_train, y_pure_train,\n",
    "                    epochs=50, batch_size= 32,\n",
    "                    verbose=0, validation_data=(X_val, y_val),\n",
    "                    callbacks=[early_stop])\n",
    "\n",
    "train_loss = results.history['loss']\n",
    "train_acc = results.history['accuracy']\n",
    "val_loss = results.history['val_loss']\n",
    "val_acc = results.history['val_accuracy']\n",
    "\n",
    "\n",
    "fig, (ax1, ax2) = plt.subplots(1, 2, figsize=(10, 5))\n",
    "sns.lineplot(x=results.epoch, y=train_loss, ax=ax1, label='train_loss')\n",
    "sns.lineplot(x=results.epoch, y=train_acc, ax=ax2, label='train_accuracy')\n",
    "\n",
    "sns.lineplot(x=results.epoch, y=val_loss, ax=ax1, label='val_loss')\n",
    "sns.lineplot(x=results.epoch, y=val_acc, ax=ax2, label='val_accuracy');"
   ]
  },
  {
   "cell_type": "markdown",
   "metadata": {},
   "source": [
    "<details>\n",
    "    <summary>One answer here</summary>\n",
    "<code>model = Sequential()\n",
    "model.add(Dense(30, activation='relu', input_dim=64))\n",
    "model.add(Dense(20, activation='relu'))\n",
    "model.add(Dropout(0.5))\n",
    "model.add(Dense(12, activation='relu'))\n",
    "model.add(Dense(12, activation='relu'))\n",
    "model.add(Dense(12, activation='relu'))\n",
    "model.add(Dense(8, activation='relu'))\n",
    "model.add(Dense(4, activation='relu'))\n",
    "model.add(Dense(1, activation ='sigmoid'))\n",
    "\n",
    "model.compile(optimizer='adam',\n",
    "              loss='binary_crossentropy',\n",
    "              metrics=['accuracy'])\n",
    "\n",
    "# Define the EarlyStopping object\n",
    "\n",
    "\n",
    "\n",
    "# Place this in a list as the value of the `callbacks` parameter\n",
    "# in the `.fit()` method.\n",
    "results = model.fit(X_pure_train, y_pure_train,\n",
    "                    epochs=50, batch_size= 32,\n",
    "                    verbose=0, validation_data=(X_val, y_val),\n",
    "                    callbacks=[early_stop])\n",
    "\n",
    "train_loss = results.history['loss']\n",
    "train_acc = results.history['accuracy']\n",
    "val_loss = results.history['val_loss']\n",
    "val_acc = results.history['val_accuracy']\n",
    "\n",
    "\n",
    "fig, (ax1, ax2) = plt.subplots(1, 2, figsize=(10, 5))\n",
    "sns.lineplot(x=results.epoch, y=train_loss, ax=ax1, label='train_loss')\n",
    "sns.lineplot(x=results.epoch, y=train_acc, ax=ax2, label='train_accuracy')\n",
    "\n",
    "sns.lineplot(x=results.epoch, y=val_loss, ax=ax1, label='val_loss')\n",
    "sns.lineplot(x=results.epoch, y=val_acc, ax=ax2, label='val_accuracy');</code>\n",
    "</details>"
   ]
  },
  {
   "cell_type": "code",
   "execution_count": null,
   "metadata": {},
   "outputs": [],
   "source": [
    "results.history['val_accuracy'][-1]"
   ]
  },
  {
   "cell_type": "markdown",
   "metadata": {},
   "source": [
    "## Multiclass Classification and Softmax"
   ]
  },
  {
   "cell_type": "markdown",
   "metadata": {},
   "source": [
    "Now let's return to the problem of predicting digits 0 through 9."
   ]
  },
  {
   "cell_type": "code",
   "execution_count": null,
   "metadata": {},
   "outputs": [],
   "source": [
    "digits = load_digits()\n",
    "X = digits.data\n",
    "y = digits.target"
   ]
  },
  {
   "cell_type": "code",
   "execution_count": null,
   "metadata": {},
   "outputs": [],
   "source": [
    "X_train, X_test, y_train, y_test = train_test_split(X, y,\n",
    "                                                    random_state=42,\n",
    "                                                    test_size=0.2)\n",
    "X_pure_train, X_val, y_pure_train, y_val =\\\n",
    "    train_test_split(X_train, y_train,\n",
    "                     random_state=42, test_size=0.2)\n",
    "X_pure_train, X_val, X_test = X_pure_train/16, X_val/16, X_test/16"
   ]
  },
  {
   "cell_type": "markdown",
   "metadata": {},
   "source": [
    "For a multiclass output, our neural net expects our target to be in a certain form."
   ]
  },
  {
   "cell_type": "code",
   "execution_count": null,
   "metadata": {},
   "outputs": [],
   "source": [
    "ohe = OneHotEncoder(sparse=False)\n",
    "y_pure_train = ohe.fit_transform(y_pure_train.reshape(-1,1))\n",
    "y_val = ohe.transform(y_val.reshape(-1,1))\n",
    "y_test = ohe.transform(y_test.reshape(-1,1))"
   ]
  },
  {
   "cell_type": "code",
   "execution_count": null,
   "metadata": {},
   "outputs": [],
   "source": [
    "y_test"
   ]
  },
  {
   "cell_type": "code",
   "execution_count": null,
   "metadata": {},
   "outputs": [],
   "source": [
    "# Model from above, but now with ten output neurons:\n",
    "\n",
    "model = Sequential()\n",
    "model.add(Dense(12, activation='relu', input_dim=64))\n",
    "model.add(Dense(8, activation='relu'))\n",
    "model.add(Dense(10, activation='softmax'))\n",
    "\n",
    "model.compile(optimizer='adam',\n",
    "              loss='categorical_crossentropy',\n",
    "              metrics=['accuracy'])\n",
    "\n",
    "results = model.fit(X_pure_train, y_pure_train,\n",
    "                   epochs=50, batch_size=10,\n",
    "                   validation_data=(X_val, y_val))"
   ]
  },
  {
   "cell_type": "markdown",
   "metadata": {},
   "source": [
    "$$\\large \\text{Softmax}(x_{i}) = \\frac{\\exp(x_i)}{\\sum_j \\exp(x_j)}$$\n",
    "\n",
    "The sofmax function outputs a number between 0 and 1 for each of our classes.  All of the probabilities of the classes sum up to 1.\n",
    "\n",
    "The number of nodes in our output layer equals the number of categories in our dataset.\n",
    "\n",
    "We also need a new loss function: **categorical crossentropy**, which calculates a separate loss for each label and then sums the results."
   ]
  },
  {
   "cell_type": "code",
   "execution_count": null,
   "metadata": {},
   "outputs": [],
   "source": [
    "history = results.history\n",
    "training_loss = history['loss']\n",
    "val_loss = history['val_loss']\n",
    "training_accuracy = history['accuracy']\n",
    "val_accuracy = history['val_accuracy']"
   ]
  },
  {
   "cell_type": "code",
   "execution_count": null,
   "metadata": {},
   "outputs": [],
   "source": [
    "fig, (ax1,ax2) = plt.subplots(1,2,figsize=(15,5))\n",
    "\n",
    "\n",
    "sns.lineplot(x=list(range(len(training_loss))),\n",
    "             y=training_loss, color='r', label='training', ax=ax1)\n",
    "sns.lineplot(x=list(range(len(val_loss))),\n",
    "             y=val_loss, color='b', label='validation', ax=ax1)\n",
    "sns.lineplot(x=list(range(len(training_loss))),\n",
    "             y=training_accuracy, color='r', label='training',ax=ax2)\n",
    "sns.lineplot(x=list(range(len(val_loss))),\n",
    "             y=val_accuracy, color='b', label='validation',ax=ax2)\n",
    "ax1.legend();"
   ]
  },
  {
   "cell_type": "code",
   "execution_count": null,
   "metadata": {},
   "outputs": [],
   "source": [
    "y_hat_test = np.argmax(model.predict(X_test), axis=-1)"
   ]
  },
  {
   "cell_type": "code",
   "execution_count": null,
   "metadata": {},
   "outputs": [],
   "source": [
    "y_test_restore = ohe.inverse_transform(y_test)\n",
    "confusion_matrix(y_test_restore, y_hat_test)"
   ]
  },
  {
   "cell_type": "markdown",
   "metadata": {},
   "source": [
    "Wow, look at that performance!  \n",
    "\n",
    "That is great, but remember, we were dealing with simple black and white images.  With color, our basic neural net will have less success.\n",
    "\n",
    "We will explore more advanced tools in the coming days.\n"
   ]
  },
  {
   "cell_type": "code",
   "execution_count": null,
   "metadata": {
    "colab_type": "text",
    "id": "EdZDyJfARV8l"
   },
   "outputs": [],
   "source": []
  }
 ],
 "metadata": {
  "celltoolbar": "Raw Cell Format",
  "colab": {
   "collapsed_sections": [],
   "name": "intro-to-keras.ipynb",
   "provenance": []
  },
  "kernelspec": {
   "display_name": "Python 3",
   "language": "python",
   "name": "python3"
  },
  "language_info": {
   "codemirror_mode": {
    "name": "ipython",
    "version": 3
   },
   "file_extension": ".py",
   "mimetype": "text/x-python",
   "name": "python",
   "nbconvert_exporter": "python",
   "pygments_lexer": "ipython3",
   "version": "3.8.5"
  },
  "toc": {
   "base_numbering": 1,
   "nav_menu": {},
   "number_sections": true,
   "sideBar": true,
   "skip_h1_title": false,
   "title_cell": "Table of Contents",
   "title_sidebar": "Contents",
   "toc_cell": false,
   "toc_position": {},
   "toc_section_display": true,
   "toc_window_display": false
  },
  "varInspector": {
   "cols": {
    "lenName": 16,
    "lenType": 16,
    "lenVar": 40
   },
   "kernels_config": {
    "python": {
     "delete_cmd_postfix": "",
     "delete_cmd_prefix": "del ",
     "library": "var_list.py",
     "varRefreshCmd": "print(var_dic_list())"
    },
    "r": {
     "delete_cmd_postfix": ") ",
     "delete_cmd_prefix": "rm(",
     "library": "var_list.r",
     "varRefreshCmd": "cat(var_dic_list()) "
    }
   },
   "types_to_exclude": [
    "module",
    "function",
    "builtin_function_or_method",
    "instance",
    "_Feature"
   ],
   "window_display": false
  }
 },
 "nbformat": 4,
 "nbformat_minor": 4
}
